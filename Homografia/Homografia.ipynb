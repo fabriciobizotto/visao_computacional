{
 "cells": [
  {
   "cell_type": "code",
   "execution_count": 29,
   "metadata": {
    "tags": []
   },
   "outputs": [
    {
     "output_type": "stream",
     "name": "stdout",
     "text": [
      "[[[275.05215  392.76294 ]]\n\n [[221.21236  392.29172 ]]\n\n [[168.43835  391.85873 ]]\n\n [[115.43817  391.9772  ]]\n\n [[ 61.359814 392.45267 ]]\n\n [[271.06967  340.45334 ]]\n\n [[218.93991  339.97137 ]]\n\n [[168.34447  339.61374 ]]\n\n [[117.10154  339.33765 ]]\n\n [[ 65.46806  339.5797  ]]\n\n [[267.26904  291.53326 ]]\n\n [[217.48297  291.2617  ]]\n\n [[168.05786  291.35864 ]]\n\n [[118.65408  290.58817 ]]\n\n [[ 68.77277  290.3301  ]]\n\n [[264.39496  245.31134 ]]\n\n [[216.12816  245.18446 ]]\n\n [[168.22946  245.35379 ]]\n\n [[120.45835  244.70857 ]]\n\n [[ 72.21353  243.74152 ]]\n\n [[261.70105  201.56454 ]]\n\n [[214.58664  201.90277 ]]\n\n [[168.24054  201.68141 ]]\n\n [[121.47055  201.27214 ]]\n\n [[ 74.595436 200.59448 ]]\n\n [[258.8807   161.302   ]]\n\n [[213.5089   161.01369 ]]\n\n [[168.15675  160.29509 ]]\n\n [[122.734535 160.51602 ]]\n\n [[ 77.460915 160.21997 ]]\n\n [[256.3212   123.42908 ]]\n\n [[212.16609  122.58608 ]]\n\n [[168.31764  121.473785]]\n\n [[124.26239  122.28227 ]]\n\n [[ 80.25231  121.5897  ]]\n\n [[253.45148   87.56619 ]]\n\n [[210.94093   86.564224]]\n\n [[168.30411   85.216225]]\n\n [[125.55535   86.37512 ]]\n\n [[ 82.80288   86.42217 ]]]\n"
     ]
    }
   ],
   "source": [
    "import numpy as np\n",
    "import cv2\n",
    "\n",
    "def binarizar(frame):\n",
    "    frame = cv2.cvtColor(frame, cv2.COLOR_BGR2GRAY)\n",
    "    # blur = cv2.medianBlur(frame, 5)\n",
    "    ret, binarizado = cv2.threshold(frame, 30, 250, cv2.THRESH_BINARY)\n",
    "    binarizado = cv2.dilate(binarizado, cv2.getStructuringElement(\n",
    "        cv2.MORPH_ELLIPSE, (5,5)\n",
    "    ), iterations = 2)\n",
    "    return binarizado\n",
    "\n",
    "def getCorners(frame, nx, ny):\n",
    "    ret, corners = cv2.findChessboardCorners(frame, (nx, ny))\n",
    "    print(corners)\n",
    "    return ret, corners\n",
    "\n",
    "def getPlanoDeFundo(frame):\n",
    "    fgmask = cv2.createBackgroundSubtractorMOG2().apply(frame)\n",
    "    fgmask = cv2.cvtColor(fgmask, cv2.COLOR_GRAY2BGR)\n",
    "    cv2.imshow('fundo', fgmask)\n",
    "    return fgmask\n",
    "\n",
    "def desenharPontos(frame_inicial, ret, corners, nx, ny, objpoints):\n",
    "    objp = np.zeros((nx*ny,2), np.float32)\n",
    "    objp[:,:2] = np.mgrid[0:nx, 0:ny].T.reshape(-1,2)\n",
    "    if ret:\n",
    "        pontos = np.int0(corners)\n",
    "        for c in pontos:\n",
    "            x,y = c.ravel()\n",
    "            cv2.circle(frame_inicial, (x,y), 3, (0,0,255), -1)\n",
    "        objpoints.append(objp)\n",
    "        cv2.imshow('pontos', frame_inicial)\n",
    "\n",
    "count = 0\n",
    "nx, ny = 5,8\n",
    "objpoints = []\n",
    "\n",
    "video = cv2.VideoCapture('xadrez.mp4')\n",
    "# Modelo de Fundo (tela vazia)\n",
    "# Calcular a homografia com o 1° frame\n",
    "_, frame_inicial = video.read()\n",
    "gray = cv2.cvtColor(frame_inicial, cv2.COLOR_BGR2GRAY)\n",
    "\n",
    "ret, corners = getCorners(gray, nx, ny)\n",
    "desenharPontos(frame_inicial, ret, corners, nx, ny, objpoints)\n",
    "\n",
    "# print(objpoints, corners)\n",
    "\n",
    "# Calcular aqui a homografia\n",
    "# h, mask = cv2.findHomography(corners, objpoints, cv2.RANSAC)\n",
    "# print(h)\n",
    "\n",
    "while video.isOpened():\n",
    "    ok, frame = video.read()\n",
    "    if frame is None:\n",
    "        break\n",
    "\n",
    "    count+=1\n",
    "    if count <= 149:\n",
    "        fundo = frame\n",
    "        continue\n",
    "\n",
    "    bolinha = cv2.subtract(frame, fundo)\n",
    "    binarizada = binarizar(bolinha)\n",
    "    \n",
    "    # encontrar o menor ponto Y (branco)\n",
    "    # desenhar no frame bolinha\n",
    "    # multiplicação de H pelo menor ponto Y encontrado\n",
    "    # matplotlib para plotar os pontos\n",
    "    \n",
    "    \n",
    "    cv2.imshow('frame', frame)\n",
    "    cv2.imshow('fundo', fundo)\n",
    "    cv2.imshow('bolinha', bolinha)\n",
    "    cv2.imshow('binarizado', binarizada)\n",
    "    \n",
    "    key = cv2.waitKey(30) & 0xff\n",
    "    if key == ord('q'):\n",
    "        break\n",
    "\n",
    "video.release()\n",
    "cv2.destroyAllWindows() "
   ]
  },
  {
   "cell_type": "code",
   "execution_count": null,
   "metadata": {},
   "outputs": [],
   "source": []
  },
  {
   "cell_type": "code",
   "execution_count": 157,
   "metadata": {},
   "outputs": [
    {
     "output_type": "stream",
     "name": "stdout",
     "text": [
      "None\n"
     ]
    }
   ],
   "source": []
  }
 ],
 "metadata": {
  "kernelspec": {
   "name": "python385jvsc74a57bd01f722055cfd2212ba67b3a96fc9a9cae88c7656e90fd3cc34fd3743276ec1913",
   "display_name": "Python 3.8.5 64-bit ('anaconda3': virtualenv)"
  },
  "language_info": {
   "codemirror_mode": {
    "name": "ipython",
    "version": 3
   },
   "file_extension": ".py",
   "mimetype": "text/x-python",
   "name": "python",
   "nbconvert_exporter": "python",
   "pygments_lexer": "ipython3",
   "version": "3.8.5"
  },
  "metadata": {
   "interpreter": {
    "hash": "1f722055cfd2212ba67b3a96fc9a9cae88c7656e90fd3cc34fd3743276ec1913"
   }
  }
 },
 "nbformat": 4,
 "nbformat_minor": 5
}