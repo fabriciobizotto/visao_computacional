{
 "cells": [
  {
   "cell_type": "code",
   "execution_count": 6,
   "metadata": {},
   "outputs": [
    {
     "output_type": "error",
     "ename": "TypeError",
     "evalue": "Expected Ptr<cv::UMat> for argument 'srcPoints'",
     "traceback": [
      "\u001b[0;31m---------------------------------------------------------------------------\u001b[0m",
      "\u001b[0;31mTypeError\u001b[0m                                 Traceback (most recent call last)",
      "\u001b[0;32m<ipython-input-6-037bbc6e1773>\u001b[0m in \u001b[0;36m<module>\u001b[0;34m\u001b[0m\n\u001b[1;32m     53\u001b[0m \u001b[0;34m\u001b[0m\u001b[0m\n\u001b[1;32m     54\u001b[0m \u001b[0;31m# Calcular aqui a homografia\u001b[0m\u001b[0;34m\u001b[0m\u001b[0;34m\u001b[0m\u001b[0;34m\u001b[0m\u001b[0m\n\u001b[0;32m---> 55\u001b[0;31m \u001b[0mh\u001b[0m\u001b[0;34m,\u001b[0m \u001b[0mmask\u001b[0m \u001b[0;34m=\u001b[0m \u001b[0mcv2\u001b[0m\u001b[0;34m.\u001b[0m\u001b[0mfindHomography\u001b[0m\u001b[0;34m(\u001b[0m\u001b[0mobjpoints\u001b[0m\u001b[0;34m,\u001b[0m \u001b[0mimgpoints\u001b[0m\u001b[0;34m,\u001b[0m \u001b[0mcv2\u001b[0m\u001b[0;34m.\u001b[0m\u001b[0mRANSAC\u001b[0m\u001b[0;34m)\u001b[0m\u001b[0;34m\u001b[0m\u001b[0;34m\u001b[0m\u001b[0m\n\u001b[0m\u001b[1;32m     56\u001b[0m \u001b[0;34m\u001b[0m\u001b[0m\n\u001b[1;32m     57\u001b[0m \u001b[0;32mwhile\u001b[0m \u001b[0;32mTrue\u001b[0m\u001b[0;34m:\u001b[0m\u001b[0;34m\u001b[0m\u001b[0;34m\u001b[0m\u001b[0m\n",
      "\u001b[0;31mTypeError\u001b[0m: Expected Ptr<cv::UMat> for argument 'srcPoints'"
     ]
    }
   ],
   "source": [
    "import numpy as np\n",
    "import cv2\n",
    "\n",
    "# def binarizar(frame):\n",
    "#     frame = cv2.cvtColor(frame, cv2.COLOR_BGR2GRAY)\n",
    "#     blur = cv2.medianBlur(frame, 5)\n",
    "#     ret, binarizado = cv2.threshold(frame, 150, 250, cv2.THRESH_BINARY)\n",
    "#     cv2.imshow('binarizado', binarizado)\n",
    "    \n",
    "#     return binarizado\n",
    "\n",
    "def getCorners(frame, nx, ny):\n",
    "    ret, corners = cv2.findChessboardCorners(frame, (nx,ny), None)\n",
    "    if ret:\n",
    "        cv2.cornerSubPix(frame, corners, (11, 11), (-1, -1),\n",
    "                         (cv2.TERM_CRITERIA_MAX_ITER + cv2.TERM_CRITERIA_EPS,\n",
    "                          30, 0.01))\n",
    "    return ret, corners\n",
    "\n",
    "def getPlanoDeFundo(frame):\n",
    "    fgmask = cv2.createBackgroundSubtractorMOG2().apply(frame)\n",
    "    fgmask = cv2.cvtColor(fgmask, cv2.COLOR_GRAY2BGR)\n",
    "    cv2.imshow('fundo', fgmask)\n",
    "    return fgmask\n",
    "\n",
    "def desenharPontos(frame_inicial, ret, corners, nx, ny, objpoints, imgpoints):\n",
    "    objp = np.zeros((nx*ny,3), np.float32)\n",
    "    objp[:,:2] = np.mgrid[0:nx, 0:ny].T.reshape(-1,2)\n",
    "    if ret:\n",
    "        corners = np.int0(corners)\n",
    "        for c in corners:\n",
    "            x,y = c.ravel()\n",
    "            cv2.circle(frame_inicial, (nx,ny), 3, (0,0,255), -1)\n",
    "        objpoints.append(objp)\n",
    "        imgpoints.append(corners)\n",
    "\n",
    "        # cv2.drawChessboardCorners(frame_inicial, (nx,ny), corners, ret)\n",
    "        cv2.imshow('pontos', frame_inicial)\n",
    "\n",
    "count = 0\n",
    "nx, ny = 3, 3\n",
    "objpoints = []\n",
    "imgpoints = []\n",
    "\n",
    "video = cv2.VideoCapture('xadrez.mp4')\n",
    "# Modelo de Fundo (tela vazia)\n",
    "# Calcular a homografia com o 1° frame\n",
    "_, frame_inicial = video.read()\n",
    "gray = cv2.cvtColor(frame_inicial, cv2.COLOR_BGR2GRAY)\n",
    "\n",
    "ret, corners = getCorners(gray, nx, ny)\n",
    "desenharPontos(frame_inicial, ret, corners, nx, ny, objpoints, imgpoints)\n",
    "\n",
    "# Calcular aqui a homografia\n",
    "# h, mask = cv2.findHomography(objpoints, imgpoints, cv2.RANSAC)\n",
    "\n",
    "while True:\n",
    "    ok, frame = video.read()\n",
    "    if frame is None:\n",
    "        break\n",
    "\n",
    "    # multiplicação de H pelo fundo da imagem\n",
    "    # Colcar em uma lista os pontos que a bolinha encostou no balcão\n",
    "    # matplotlib para plotar os pontos\n",
    "    cv2.imshow('frame', frame)\n",
    "    \n",
    "    count+=1\n",
    "    if count == 215:\n",
    "        fundo = frame\n",
    "        \n",
    "    key = cv2.waitKey(30) & 0xff\n",
    "    if key == ord('q'):\n",
    "        break\n",
    "\n",
    "video.release()\n",
    "cv2.destroyAllWindows() "
   ]
  },
  {
   "cell_type": "code",
   "execution_count": 157,
   "metadata": {},
   "outputs": [
    {
     "output_type": "stream",
     "name": "stdout",
     "text": [
      "None\n"
     ]
    }
   ],
   "source": []
  }
 ],
 "metadata": {
  "kernelspec": {
   "name": "python385jvsc74a57bd01f722055cfd2212ba67b3a96fc9a9cae88c7656e90fd3cc34fd3743276ec1913",
   "display_name": "Python 3.8.5 64-bit ('base': conda)"
  },
  "language_info": {
   "codemirror_mode": {
    "name": "ipython",
    "version": 3
   },
   "file_extension": ".py",
   "mimetype": "text/x-python",
   "name": "python",
   "nbconvert_exporter": "python",
   "pygments_lexer": "ipython3",
   "version": "3.8.5"
  },
  "metadata": {
   "interpreter": {
    "hash": "1f722055cfd2212ba67b3a96fc9a9cae88c7656e90fd3cc34fd3743276ec1913"
   }
  }
 },
 "nbformat": 4,
 "nbformat_minor": 5
}