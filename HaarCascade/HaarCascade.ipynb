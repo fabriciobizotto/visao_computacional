{
 "cells": [
  {
   "cell_type": "code",
   "execution_count": 7,
   "metadata": {},
   "outputs": [],
   "source": [
    "# \n",
    "import numpy as np\n",
    "import cv2\n",
    "\n",
    "ds_faces = '/usr/share/opencv4/haarcascades/' + 'haarcascade_frontalface_default.xml'\n",
    "# df_eyes = '/usr/share/opencv4/haarcascades/' + 'haarcascade_eye.xml'\n",
    "face_cascade = cv2.CascadeClassifier(ds_faces)\n",
    "# eye_cascade = cv2.CascadeClassifier(df_eyes)\n",
    "\n",
    "video = cv2.VideoCapture(0)\n",
    "\n",
    "while True:\n",
    "    _, frame = video.read()\n",
    "    if frame is None:\n",
    "        break\n",
    "\n",
    "    gray = cv2.cvtColor(frame, cv2.COLOR_BGR2GRAY)\n",
    "    faces = face_cascade.detectMultiScale(gray, 1.1, 2)\n",
    "\n",
    "    for x,y,w,h in faces:\n",
    "        frame = cv2.rectangle(frame,(x,y),(x+w,y+h), (0,255,0), 2)\n",
    "        # roi_gray = gray[y:y+h, x:x+w]\n",
    "        # roi_color = frame[y:y+h, x:x+w]\n",
    "        # eyes = eye_cascade.detectMultiScale(roi_gray)\n",
    "        # for (ex,ey,ew,eh) in eyes:\n",
    "        #     cv2.rectangle(roi_color,(ex,ey),(ex+ew,ey+eh),(0,255,0),2)\n",
    "\n",
    "    cv2.imshow('frame', frame)\n",
    "\n",
    "    key = cv2.waitKey(30) & 0xff\n",
    "    if key == ord('q'):\n",
    "        break\n",
    "\n",
    "video.release()\n",
    "cv2.destroyAllWindows()"
   ]
  }
 ],
 "metadata": {
  "kernelspec": {
   "name": "python385jvsc74a57bd01f722055cfd2212ba67b3a96fc9a9cae88c7656e90fd3cc34fd3743276ec1913",
   "display_name": "Python 3.8.5 64-bit ('base': conda)"
  },
  "language_info": {
   "codemirror_mode": {
    "name": "ipython",
    "version": 3
   },
   "file_extension": ".py",
   "mimetype": "text/x-python",
   "name": "python",
   "nbconvert_exporter": "python",
   "pygments_lexer": "ipython3",
   "version": "3.8.5"
  },
  "metadata": {
   "interpreter": {
    "hash": "1f722055cfd2212ba67b3a96fc9a9cae88c7656e90fd3cc34fd3743276ec1913"
   }
  }
 },
 "nbformat": 4,
 "nbformat_minor": 5
}