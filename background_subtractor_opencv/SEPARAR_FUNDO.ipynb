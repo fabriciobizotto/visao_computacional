{
 "cells": [
  {
   "cell_type": "code",
   "execution_count": 4,
   "metadata": {},
   "outputs": [],
   "source": [
    "import cv2\n",
    "\n",
    "dirname = '/home/fabricio/Dropbox/UTFPR/visao_computacional/background_subtractor_opencv/'\n",
    "filename = dirname + 'bg.mkv'\n",
    "\n",
    "def processar(frame, metodo, kernel=None):\n",
    "    fgmask = metodo.apply(frame)\n",
    "    fgmask = cv2.cvtColor(fgmask, cv2.COLOR_GRAY2BGR)\n",
    "    \n",
    "    if kernel is not None:\n",
    "        fgmask = cv2.morphologyEx(fgmask, cv2.MORPH_OPEN, kernel)\n",
    "    return fgmask\n",
    "\n",
    "def concatenar_saida(images): \n",
    "    return cv2.vconcat(\n",
    "        [cv2.hconcat(image) for image in images]\n",
    "    )\n",
    "\n",
    "video = cv2.VideoCapture(filename)\n",
    "fgbg1 = cv2.createBackgroundSubtractorMOG2()\n",
    "fgbg2 = cv2.bgsegm.createBackgroundSubtractorGMG()\n",
    "fgbg3 = cv2.createBackgroundSubtractorKNN()\n",
    "\n",
    "kernel = cv2.getStructuringElement(cv2.MORPH_ELLIPSE, (3,3))\n",
    "\n",
    "while True:\n",
    "    ok, frame = video.read()\n",
    "    if frame is None:\n",
    "        break\n",
    "\n",
    "    # Redimensionar\n",
    "    frame = cv2.resize(frame, (320,320))\n",
    "    # Subtrair fundo utilizando os métodos\n",
    "    images = [[frame, \n",
    "        processar(frame, fgbg1)],\n",
    "        [processar(frame, fgbg2, kernel),\n",
    "        processar(frame, fgbg3)],\n",
    "    ]\n",
    "    \n",
    "    # Imprimir o resultado\n",
    "    cv2.imshow('Frame', concatenar_saida(images))\n",
    "\n",
    "    if cv2.waitKey(1) & 0xFF == ord('q'):\n",
    "        break\n",
    "\n",
    "video.release()\n",
    "cv2.destroyAllWindows() "
   ]
  }
 ],
 "metadata": {
  "kernelspec": {
   "display_name": "Python 3",
   "language": "python",
   "name": "python3"
  },
  "language_info": {
   "codemirror_mode": {
    "name": "ipython",
    "version": 3
   },
   "file_extension": ".py",
   "mimetype": "text/x-python",
   "name": "python",
   "nbconvert_exporter": "python",
   "pygments_lexer": "ipython3",
   "version": "3.8.5"
  }
 },
 "nbformat": 4,
 "nbformat_minor": 5
}
